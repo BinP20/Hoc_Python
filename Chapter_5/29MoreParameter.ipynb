{
 "cells": [
  {
   "cell_type": "code",
   "execution_count": 32,
   "metadata": {},
   "outputs": [
    {
     "name": "stdout",
     "output_type": "stream",
     "text": [
      "Apple                    10000\n"
     ]
    }
   ],
   "source": [
    "st = \"{:15}{:15}\".format(\"Apple\",10000)\n",
    "print(st)"
   ]
  },
  {
   "cell_type": "code",
   "execution_count": 25,
   "metadata": {},
   "outputs": [],
   "source": [
    "# Gia su minh mua 3 loai dth, va tinh tong so tien can chi\n",
    "\n",
    "def cellphone(**data):\n",
    "    count=0\n",
    "    for name,price in data.items():\n",
    "        row = \"{:15} {:15}\".format(name,price)\n",
    "        print(row)\n",
    "        count = count + price\n",
    "    return count"
   ]
  },
  {
   "cell_type": "code",
   "execution_count": 30,
   "metadata": {},
   "outputs": [
    {
     "name": "stdout",
     "output_type": "stream",
     "text": [
      "iphone                    10000\n",
      "samsung                    8000\n",
      "oppo                       8000\n",
      "------------------------------\n",
      "Total:                    26000\n"
     ]
    }
   ],
   "source": [
    "sum = cellphone(iphone=10000, samsung=8000, oppo=8000)\n",
    "print('-'*30)\n",
    "row = \"{:15} {:15}\".format('Total: ', sum)\n",
    "print(row)"
   ]
  },
  {
   "cell_type": "code",
   "execution_count": null,
   "metadata": {},
   "outputs": [],
   "source": []
  }
 ],
 "metadata": {
  "kernelspec": {
   "display_name": "Python 3.10.4 64-bit",
   "language": "python",
   "name": "python3"
  },
  "language_info": {
   "codemirror_mode": {
    "name": "ipython",
    "version": 3
   },
   "file_extension": ".py",
   "mimetype": "text/x-python",
   "name": "python",
   "nbconvert_exporter": "python",
   "pygments_lexer": "ipython3",
   "version": "3.10.6"
  },
  "orig_nbformat": 4,
  "vscode": {
   "interpreter": {
    "hash": "916dbcbb3f70747c44a77c7bcd40155683ae19c65e1c03b4aa3499c5328201f1"
   }
  }
 },
 "nbformat": 4,
 "nbformat_minor": 2
}
