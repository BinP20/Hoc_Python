{
 "cells": [
  {
   "cell_type": "code",
   "execution_count": 15,
   "metadata": {},
   "outputs": [],
   "source": [
    "import pandas as pd\n",
    "from pandas import Series, DataFrame\n",
    "import numpy as np\n",
    "from numpy.random import randn"
   ]
  },
  {
   "cell_type": "code",
   "execution_count": 16,
   "metadata": {},
   "outputs": [
    {
     "data": {
      "text/html": [
       "<div>\n",
       "<style scoped>\n",
       "    .dataframe tbody tr th:only-of-type {\n",
       "        vertical-align: middle;\n",
       "    }\n",
       "\n",
       "    .dataframe tbody tr th {\n",
       "        vertical-align: top;\n",
       "    }\n",
       "\n",
       "    .dataframe thead th {\n",
       "        text-align: right;\n",
       "    }\n",
       "</style>\n",
       "<table border=\"1\" class=\"dataframe\">\n",
       "  <thead>\n",
       "    <tr style=\"text-align: right;\">\n",
       "      <th></th>\n",
       "      <th></th>\n",
       "      <th>Currency</th>\n",
       "      <th>Rate</th>\n",
       "      <th>Change</th>\n",
       "    </tr>\n",
       "  </thead>\n",
       "  <tbody>\n",
       "    <tr>\n",
       "      <th>EUR</th>\n",
       "      <th>/</th>\n",
       "      <td>USD</td>\n",
       "      <td>0.986294</td>\n",
       "      <td>▲</td>\n",
       "    </tr>\n",
       "    <tr>\n",
       "      <th>GBP</th>\n",
       "      <th>/</th>\n",
       "      <td>EUR</td>\n",
       "      <td>1.146400</td>\n",
       "      <td>▲</td>\n",
       "    </tr>\n",
       "    <tr>\n",
       "      <th>USD</th>\n",
       "      <th>/</th>\n",
       "      <td>JPY</td>\n",
       "      <td>147.406000</td>\n",
       "      <td>▼</td>\n",
       "    </tr>\n",
       "    <tr>\n",
       "      <th>GBP</th>\n",
       "      <th>/</th>\n",
       "      <td>USD</td>\n",
       "      <td>1.130680</td>\n",
       "      <td>▲</td>\n",
       "    </tr>\n",
       "    <tr>\n",
       "      <th rowspan=\"2\" valign=\"top\">USD</th>\n",
       "      <th>/</th>\n",
       "      <td>CHF</td>\n",
       "      <td>0.997401</td>\n",
       "      <td>▲</td>\n",
       "    </tr>\n",
       "    <tr>\n",
       "      <th>/</th>\n",
       "      <td>CAD</td>\n",
       "      <td>1.362200</td>\n",
       "      <td>▼</td>\n",
       "    </tr>\n",
       "    <tr>\n",
       "      <th>EUR</th>\n",
       "      <th>/</th>\n",
       "      <td>JPY</td>\n",
       "      <td>145.386000</td>\n",
       "      <td>▼</td>\n",
       "    </tr>\n",
       "    <tr>\n",
       "      <th>AUD</th>\n",
       "      <th>/</th>\n",
       "      <td>USD</td>\n",
       "      <td>0.633521</td>\n",
       "      <td>▼</td>\n",
       "    </tr>\n",
       "  </tbody>\n",
       "</table>\n",
       "</div>"
      ],
      "text/plain": [
       "      Currency        Rate Change\n",
       "EUR /      USD    0.986294      ▲\n",
       "GBP /      EUR    1.146400      ▲\n",
       "USD /      JPY  147.406000      ▼\n",
       "GBP /      USD    1.130680      ▲\n",
       "USD /      CHF    0.997401      ▲\n",
       "    /      CAD    1.362200      ▼\n",
       "EUR /      JPY  145.386000      ▼\n",
       "AUD /      USD    0.633521      ▼"
      ]
     },
     "execution_count": 16,
     "metadata": {},
     "output_type": "execute_result"
    }
   ],
   "source": [
    "df1 = pd.read_clipboard()       # lưu data từ bàn phím\n",
    "df1"
   ]
  },
  {
   "cell_type": "code",
   "execution_count": 17,
   "metadata": {},
   "outputs": [
    {
     "data": {
      "text/plain": [
       "Index(['Currency', 'Rate', 'Change'], dtype='object')"
      ]
     },
     "execution_count": 17,
     "metadata": {},
     "output_type": "execute_result"
    }
   ],
   "source": [
    "df1.columns"
   ]
  },
  {
   "cell_type": "code",
   "execution_count": 18,
   "metadata": {},
   "outputs": [
    {
     "data": {
      "text/html": [
       "<div>\n",
       "<style scoped>\n",
       "    .dataframe tbody tr th:only-of-type {\n",
       "        vertical-align: middle;\n",
       "    }\n",
       "\n",
       "    .dataframe tbody tr th {\n",
       "        vertical-align: top;\n",
       "    }\n",
       "\n",
       "    .dataframe thead th {\n",
       "        text-align: right;\n",
       "    }\n",
       "</style>\n",
       "<table border=\"1\" class=\"dataframe\">\n",
       "  <thead>\n",
       "    <tr style=\"text-align: right;\">\n",
       "      <th></th>\n",
       "      <th></th>\n",
       "      <th>Currency</th>\n",
       "      <th>Rate</th>\n",
       "      <th>Change</th>\n",
       "    </tr>\n",
       "  </thead>\n",
       "  <tbody>\n",
       "    <tr>\n",
       "      <th>EUR</th>\n",
       "      <th>/</th>\n",
       "      <td>USD</td>\n",
       "      <td>0.986294</td>\n",
       "      <td>▲</td>\n",
       "    </tr>\n",
       "    <tr>\n",
       "      <th>GBP</th>\n",
       "      <th>/</th>\n",
       "      <td>EUR</td>\n",
       "      <td>1.146400</td>\n",
       "      <td>▲</td>\n",
       "    </tr>\n",
       "    <tr>\n",
       "      <th>USD</th>\n",
       "      <th>/</th>\n",
       "      <td>JPY</td>\n",
       "      <td>147.406000</td>\n",
       "      <td>▼</td>\n",
       "    </tr>\n",
       "    <tr>\n",
       "      <th>GBP</th>\n",
       "      <th>/</th>\n",
       "      <td>USD</td>\n",
       "      <td>1.130680</td>\n",
       "      <td>▲</td>\n",
       "    </tr>\n",
       "    <tr>\n",
       "      <th>USD</th>\n",
       "      <th>/</th>\n",
       "      <td>CHF</td>\n",
       "      <td>0.997401</td>\n",
       "      <td>▲</td>\n",
       "    </tr>\n",
       "  </tbody>\n",
       "</table>\n",
       "</div>"
      ],
      "text/plain": [
       "      Currency        Rate Change\n",
       "EUR /      USD    0.986294      ▲\n",
       "GBP /      EUR    1.146400      ▲\n",
       "USD /      JPY  147.406000      ▼\n",
       "GBP /      USD    1.130680      ▲\n",
       "USD /      CHF    0.997401      ▲"
      ]
     },
     "execution_count": 18,
     "metadata": {},
     "output_type": "execute_result"
    }
   ],
   "source": [
    "df1.head()"
   ]
  },
  {
   "cell_type": "code",
   "execution_count": 19,
   "metadata": {},
   "outputs": [
    {
     "data": {
      "text/html": [
       "<div>\n",
       "<style scoped>\n",
       "    .dataframe tbody tr th:only-of-type {\n",
       "        vertical-align: middle;\n",
       "    }\n",
       "\n",
       "    .dataframe tbody tr th {\n",
       "        vertical-align: top;\n",
       "    }\n",
       "\n",
       "    .dataframe thead th {\n",
       "        text-align: right;\n",
       "    }\n",
       "</style>\n",
       "<table border=\"1\" class=\"dataframe\">\n",
       "  <thead>\n",
       "    <tr style=\"text-align: right;\">\n",
       "      <th></th>\n",
       "      <th></th>\n",
       "      <th>Currency</th>\n",
       "      <th>Rate</th>\n",
       "      <th>Change</th>\n",
       "    </tr>\n",
       "  </thead>\n",
       "  <tbody>\n",
       "    <tr>\n",
       "      <th>GBP</th>\n",
       "      <th>/</th>\n",
       "      <td>USD</td>\n",
       "      <td>1.130680</td>\n",
       "      <td>▲</td>\n",
       "    </tr>\n",
       "    <tr>\n",
       "      <th rowspan=\"2\" valign=\"top\">USD</th>\n",
       "      <th>/</th>\n",
       "      <td>CHF</td>\n",
       "      <td>0.997401</td>\n",
       "      <td>▲</td>\n",
       "    </tr>\n",
       "    <tr>\n",
       "      <th>/</th>\n",
       "      <td>CAD</td>\n",
       "      <td>1.362200</td>\n",
       "      <td>▼</td>\n",
       "    </tr>\n",
       "    <tr>\n",
       "      <th>EUR</th>\n",
       "      <th>/</th>\n",
       "      <td>JPY</td>\n",
       "      <td>145.386000</td>\n",
       "      <td>▼</td>\n",
       "    </tr>\n",
       "    <tr>\n",
       "      <th>AUD</th>\n",
       "      <th>/</th>\n",
       "      <td>USD</td>\n",
       "      <td>0.633521</td>\n",
       "      <td>▼</td>\n",
       "    </tr>\n",
       "  </tbody>\n",
       "</table>\n",
       "</div>"
      ],
      "text/plain": [
       "      Currency        Rate Change\n",
       "GBP /      USD    1.130680      ▲\n",
       "USD /      CHF    0.997401      ▲\n",
       "    /      CAD    1.362200      ▼\n",
       "EUR /      JPY  145.386000      ▼\n",
       "AUD /      USD    0.633521      ▼"
      ]
     },
     "execution_count": 19,
     "metadata": {},
     "output_type": "execute_result"
    }
   ],
   "source": [
    "df1.tail()"
   ]
  },
  {
   "cell_type": "code",
   "execution_count": 20,
   "metadata": {},
   "outputs": [
    {
     "data": {
      "text/plain": [
       "EUR  /    ▲\n",
       "GBP  /    ▲\n",
       "USD  /    ▼\n",
       "GBP  /    ▲\n",
       "USD  /    ▲\n",
       "     /    ▼\n",
       "EUR  /    ▼\n",
       "AUD  /    ▼\n",
       "Name: Change, dtype: object"
      ]
     },
     "execution_count": 20,
     "metadata": {},
     "output_type": "execute_result"
    }
   ],
   "source": [
    "df1.Change"
   ]
  },
  {
   "cell_type": "code",
   "execution_count": 21,
   "metadata": {},
   "outputs": [
    {
     "data": {
      "text/plain": [
       "EUR  /      0.986294\n",
       "GBP  /      1.146400\n",
       "USD  /    147.406000\n",
       "GBP  /      1.130680\n",
       "USD  /      0.997401\n",
       "     /      1.362200\n",
       "EUR  /    145.386000\n",
       "AUD  /      0.633521\n",
       "Name: Rate, dtype: float64"
      ]
     },
     "execution_count": 21,
     "metadata": {},
     "output_type": "execute_result"
    }
   ],
   "source": [
    "df1.Rate"
   ]
  },
  {
   "cell_type": "code",
   "execution_count": 22,
   "metadata": {},
   "outputs": [
    {
     "data": {
      "text/html": [
       "<div>\n",
       "<style scoped>\n",
       "    .dataframe tbody tr th:only-of-type {\n",
       "        vertical-align: middle;\n",
       "    }\n",
       "\n",
       "    .dataframe tbody tr th {\n",
       "        vertical-align: top;\n",
       "    }\n",
       "\n",
       "    .dataframe thead th {\n",
       "        text-align: right;\n",
       "    }\n",
       "</style>\n",
       "<table border=\"1\" class=\"dataframe\">\n",
       "  <thead>\n",
       "    <tr style=\"text-align: right;\">\n",
       "      <th></th>\n",
       "      <th></th>\n",
       "      <th>Currency</th>\n",
       "      <th>Rate</th>\n",
       "      <th>Change</th>\n",
       "    </tr>\n",
       "  </thead>\n",
       "  <tbody>\n",
       "    <tr>\n",
       "      <th>EUR</th>\n",
       "      <th>/</th>\n",
       "      <td>USD</td>\n",
       "      <td>0.986294</td>\n",
       "      <td>▲</td>\n",
       "    </tr>\n",
       "    <tr>\n",
       "      <th>GBP</th>\n",
       "      <th>/</th>\n",
       "      <td>EUR</td>\n",
       "      <td>1.146400</td>\n",
       "      <td>▲</td>\n",
       "    </tr>\n",
       "    <tr>\n",
       "      <th>USD</th>\n",
       "      <th>/</th>\n",
       "      <td>JPY</td>\n",
       "      <td>147.406000</td>\n",
       "      <td>▼</td>\n",
       "    </tr>\n",
       "    <tr>\n",
       "      <th>GBP</th>\n",
       "      <th>/</th>\n",
       "      <td>USD</td>\n",
       "      <td>1.130680</td>\n",
       "      <td>▲</td>\n",
       "    </tr>\n",
       "    <tr>\n",
       "      <th rowspan=\"2\" valign=\"top\">USD</th>\n",
       "      <th>/</th>\n",
       "      <td>CHF</td>\n",
       "      <td>0.997401</td>\n",
       "      <td>▲</td>\n",
       "    </tr>\n",
       "    <tr>\n",
       "      <th>/</th>\n",
       "      <td>CAD</td>\n",
       "      <td>1.362200</td>\n",
       "      <td>▼</td>\n",
       "    </tr>\n",
       "    <tr>\n",
       "      <th>EUR</th>\n",
       "      <th>/</th>\n",
       "      <td>JPY</td>\n",
       "      <td>145.386000</td>\n",
       "      <td>▼</td>\n",
       "    </tr>\n",
       "    <tr>\n",
       "      <th>AUD</th>\n",
       "      <th>/</th>\n",
       "      <td>USD</td>\n",
       "      <td>0.633521</td>\n",
       "      <td>▼</td>\n",
       "    </tr>\n",
       "  </tbody>\n",
       "</table>\n",
       "</div>"
      ],
      "text/plain": [
       "      Currency        Rate Change\n",
       "EUR /      USD    0.986294      ▲\n",
       "GBP /      EUR    1.146400      ▲\n",
       "USD /      JPY  147.406000      ▼\n",
       "GBP /      USD    1.130680      ▲\n",
       "USD /      CHF    0.997401      ▲\n",
       "    /      CAD    1.362200      ▼\n",
       "EUR /      JPY  145.386000      ▼\n",
       "AUD /      USD    0.633521      ▼"
      ]
     },
     "execution_count": 22,
     "metadata": {},
     "output_type": "execute_result"
    }
   ],
   "source": [
    "df1"
   ]
  },
  {
   "cell_type": "code",
   "execution_count": 23,
   "metadata": {},
   "outputs": [],
   "source": [
    "df1.Change = 'Down 1'"
   ]
  },
  {
   "cell_type": "code",
   "execution_count": 24,
   "metadata": {},
   "outputs": [
    {
     "data": {
      "text/html": [
       "<div>\n",
       "<style scoped>\n",
       "    .dataframe tbody tr th:only-of-type {\n",
       "        vertical-align: middle;\n",
       "    }\n",
       "\n",
       "    .dataframe tbody tr th {\n",
       "        vertical-align: top;\n",
       "    }\n",
       "\n",
       "    .dataframe thead th {\n",
       "        text-align: right;\n",
       "    }\n",
       "</style>\n",
       "<table border=\"1\" class=\"dataframe\">\n",
       "  <thead>\n",
       "    <tr style=\"text-align: right;\">\n",
       "      <th></th>\n",
       "      <th></th>\n",
       "      <th>Currency</th>\n",
       "      <th>Rate</th>\n",
       "      <th>Change</th>\n",
       "    </tr>\n",
       "  </thead>\n",
       "  <tbody>\n",
       "    <tr>\n",
       "      <th>EUR</th>\n",
       "      <th>/</th>\n",
       "      <td>USD</td>\n",
       "      <td>0.986294</td>\n",
       "      <td>Down 1</td>\n",
       "    </tr>\n",
       "    <tr>\n",
       "      <th>GBP</th>\n",
       "      <th>/</th>\n",
       "      <td>EUR</td>\n",
       "      <td>1.146400</td>\n",
       "      <td>Down 1</td>\n",
       "    </tr>\n",
       "    <tr>\n",
       "      <th>USD</th>\n",
       "      <th>/</th>\n",
       "      <td>JPY</td>\n",
       "      <td>147.406000</td>\n",
       "      <td>Down 1</td>\n",
       "    </tr>\n",
       "    <tr>\n",
       "      <th>GBP</th>\n",
       "      <th>/</th>\n",
       "      <td>USD</td>\n",
       "      <td>1.130680</td>\n",
       "      <td>Down 1</td>\n",
       "    </tr>\n",
       "    <tr>\n",
       "      <th rowspan=\"2\" valign=\"top\">USD</th>\n",
       "      <th>/</th>\n",
       "      <td>CHF</td>\n",
       "      <td>0.997401</td>\n",
       "      <td>Down 1</td>\n",
       "    </tr>\n",
       "    <tr>\n",
       "      <th>/</th>\n",
       "      <td>CAD</td>\n",
       "      <td>1.362200</td>\n",
       "      <td>Down 1</td>\n",
       "    </tr>\n",
       "    <tr>\n",
       "      <th>EUR</th>\n",
       "      <th>/</th>\n",
       "      <td>JPY</td>\n",
       "      <td>145.386000</td>\n",
       "      <td>Down 1</td>\n",
       "    </tr>\n",
       "    <tr>\n",
       "      <th>AUD</th>\n",
       "      <th>/</th>\n",
       "      <td>USD</td>\n",
       "      <td>0.633521</td>\n",
       "      <td>Down 1</td>\n",
       "    </tr>\n",
       "  </tbody>\n",
       "</table>\n",
       "</div>"
      ],
      "text/plain": [
       "      Currency        Rate  Change\n",
       "EUR /      USD    0.986294  Down 1\n",
       "GBP /      EUR    1.146400  Down 1\n",
       "USD /      JPY  147.406000  Down 1\n",
       "GBP /      USD    1.130680  Down 1\n",
       "USD /      CHF    0.997401  Down 1\n",
       "    /      CAD    1.362200  Down 1\n",
       "EUR /      JPY  145.386000  Down 1\n",
       "AUD /      USD    0.633521  Down 1"
      ]
     },
     "execution_count": 24,
     "metadata": {},
     "output_type": "execute_result"
    }
   ],
   "source": [
    "df1"
   ]
  },
  {
   "cell_type": "code",
   "execution_count": null,
   "metadata": {},
   "outputs": [],
   "source": [
    "# Lưu ý các cột không được có khoảng trống"
   ]
  }
 ],
 "metadata": {
  "kernelspec": {
   "display_name": "Python 3.10.4 64-bit",
   "language": "python",
   "name": "python3"
  },
  "language_info": {
   "codemirror_mode": {
    "name": "ipython",
    "version": 3
   },
   "file_extension": ".py",
   "mimetype": "text/x-python",
   "name": "python",
   "nbconvert_exporter": "python",
   "pygments_lexer": "ipython3",
   "version": "3.10.6"
  },
  "orig_nbformat": 4,
  "vscode": {
   "interpreter": {
    "hash": "916dbcbb3f70747c44a77c7bcd40155683ae19c65e1c03b4aa3499c5328201f1"
   }
  }
 },
 "nbformat": 4,
 "nbformat_minor": 2
}
