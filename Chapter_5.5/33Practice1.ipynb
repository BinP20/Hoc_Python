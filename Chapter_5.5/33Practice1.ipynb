{
 "cells": [
  {
   "cell_type": "code",
   "execution_count": 9,
   "metadata": {},
   "outputs": [],
   "source": [
    "# cho 1 ham('Python','Bin','ca koi', 'toa a3')\n",
    "# dem ra cac tu giong nhau va chua chung trong dict"
   ]
  },
  {
   "cell_type": "code",
   "execution_count": 6,
   "metadata": {},
   "outputs": [],
   "source": [
    "def countchar(*data):\n",
    "    d = {}\n",
    "    for i in data:\n",
    "        for j in i:\n",
    "            x = j.upper()       # bien toan bo ky tu thanh in hoa (de doc, de dem)\n",
    "            if j in d:\n",
    "                d[j] = d[j] + 1\n",
    "            else:\n",
    "                d[j] = 1\n",
    "    return d"
   ]
  },
  {
   "cell_type": "code",
   "execution_count": 7,
   "metadata": {},
   "outputs": [
    {
     "data": {
      "text/plain": [
       "{'P': 1,\n",
       " 'y': 1,\n",
       " 't': 2,\n",
       " 'h': 1,\n",
       " 'o': 3,\n",
       " 'n': 2,\n",
       " 'B': 1,\n",
       " 'i': 2,\n",
       " 'c': 1,\n",
       " 'a': 3,\n",
       " ' ': 2,\n",
       " 'k': 1,\n",
       " '3': 1}"
      ]
     },
     "execution_count": 7,
     "metadata": {},
     "output_type": "execute_result"
    }
   ],
   "source": [
    "countchar('Python','Bin','ca koi', 'toa a3')"
   ]
  },
  {
   "cell_type": "code",
   "execution_count": null,
   "metadata": {},
   "outputs": [],
   "source": []
  }
 ],
 "metadata": {
  "kernelspec": {
   "display_name": "Python 3.10.4 64-bit",
   "language": "python",
   "name": "python3"
  },
  "language_info": {
   "codemirror_mode": {
    "name": "ipython",
    "version": 3
   },
   "file_extension": ".py",
   "mimetype": "text/x-python",
   "name": "python",
   "nbconvert_exporter": "python",
   "pygments_lexer": "ipython3",
   "version": "3.10.6"
  },
  "orig_nbformat": 4,
  "vscode": {
   "interpreter": {
    "hash": "916dbcbb3f70747c44a77c7bcd40155683ae19c65e1c03b4aa3499c5328201f1"
   }
  }
 },
 "nbformat": 4,
 "nbformat_minor": 2
}
